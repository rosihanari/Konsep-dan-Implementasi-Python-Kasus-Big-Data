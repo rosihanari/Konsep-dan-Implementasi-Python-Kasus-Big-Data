{
 "cells": [
  {
   "cell_type": "markdown",
   "metadata": {},
   "source": [
    "# Kunci Jawaban Project Latihan Chapter 8\n",
    "[Buku Konsep dan Implementasi Python: Kasus Big Data](http://blog.rosihanari.net/my-book-konsep-dan-implementasi-python-di-kasus-big-data/) \n",
    "\n",
    "**Disusun oleh**: [Rosihan Ari Yuana](http://rosihanari.net)\n",
    "\n",
    "<img src=\"https://blog.rosihanari.net/wp-content/uploads/2019/11/Clipboard03.png\" align=\"left\">"
   ]
  },
  {
   "cell_type": "markdown",
   "metadata": {},
   "source": [
    "# No 1"
   ]
  },
  {
   "cell_type": "code",
   "execution_count": 14,
   "metadata": {},
   "outputs": [],
   "source": [
    "def statHuruf(s):\n",
    "    # mengubah s menjadi huruf kecil semua\n",
    "    s = s.lower()\n",
    "    # mengubah s menjadi set kemudian jadikan list\n",
    "    dataHuruf = list(set(s))\n",
    "    # sorting\n",
    "    dataHuruf.sort()\n",
    "    # inisialisasi dictionary statistik huruf\n",
    "    dictHuruf = {}\n",
    "    for huruf in dataHuruf:\n",
    "        dictHuruf[huruf] = 0\n",
    "    # menghitung jumlah huruf\n",
    "    for huruf in s:\n",
    "        dictHuruf[huruf] += 1\n",
    "        \n",
    "    return dictHuruf"
   ]
  },
  {
   "cell_type": "code",
   "execution_count": 15,
   "metadata": {},
   "outputs": [
    {
     "name": "stdout",
     "output_type": "stream",
     "text": [
      "{'a': 3, 'e': 1, 'i': 1, 'k': 1, 'm': 2, 't': 2}\n"
     ]
    }
   ],
   "source": [
    "print(statHuruf('MaTemAtika'))"
   ]
  },
  {
   "cell_type": "markdown",
   "metadata": {},
   "source": [
    "# No 3"
   ]
  },
  {
   "cell_type": "code",
   "execution_count": 17,
   "metadata": {},
   "outputs": [],
   "source": [
    "def ubahHuruf(teks, a, b):\n",
    "    teks = teks.replace(a, b)\n",
    "    return teks"
   ]
  },
  {
   "cell_type": "code",
   "execution_count": 18,
   "metadata": {},
   "outputs": [
    {
     "data": {
      "text/plain": [
       "'MASEMASIKA'"
      ]
     },
     "execution_count": 18,
     "metadata": {},
     "output_type": "execute_result"
    }
   ],
   "source": [
    "ubahHuruf('MATEMATIKA', 'T', 'S')"
   ]
  },
  {
   "cell_type": "markdown",
   "metadata": {},
   "source": [
    "# No 5"
   ]
  },
  {
   "cell_type": "code",
   "execution_count": 28,
   "metadata": {},
   "outputs": [],
   "source": [
    "def bintang(n):\n",
    "    for i in range(n):\n",
    "        print(('*' * (2*(i+1)-1)).center(2*n-1,' '))"
   ]
  },
  {
   "cell_type": "code",
   "execution_count": 29,
   "metadata": {},
   "outputs": [
    {
     "name": "stdout",
     "output_type": "stream",
     "text": [
      "   *   \n",
      "  ***  \n",
      " ***** \n",
      "*******\n"
     ]
    }
   ],
   "source": [
    "bintang(4)"
   ]
  },
  {
   "cell_type": "markdown",
   "metadata": {},
   "source": [
    "# No 7"
   ]
  },
  {
   "cell_type": "code",
   "execution_count": 31,
   "metadata": {},
   "outputs": [],
   "source": [
    "def shuffleString(x, n):\n",
    "    import random\n",
    "    result = []\n",
    "    for i in range(n):\n",
    "        randString = ''.join(random.sample(x, len(x)))\n",
    "        result.append(randString)\n",
    "    return result"
   ]
  },
  {
   "cell_type": "code",
   "execution_count": 35,
   "metadata": {},
   "outputs": [
    {
     "data": {
      "text/plain": [
       "['uka', 'uka']"
      ]
     },
     "execution_count": 35,
     "metadata": {},
     "output_type": "execute_result"
    }
   ],
   "source": [
    "shuffleString('aku', 2)"
   ]
  },
  {
   "cell_type": "code",
   "execution_count": 33,
   "metadata": {},
   "outputs": [
    {
     "data": {
      "text/plain": [
       "['uak', 'kau', 'aku']"
      ]
     },
     "execution_count": 33,
     "metadata": {},
     "output_type": "execute_result"
    }
   ],
   "source": [
    "shuffleString('aku', 3)"
   ]
  },
  {
   "cell_type": "code",
   "execution_count": 36,
   "metadata": {},
   "outputs": [
    {
     "data": {
      "text/plain": [
       "['uak', 'kau', 'uka', 'aku']"
      ]
     },
     "execution_count": 36,
     "metadata": {},
     "output_type": "execute_result"
    }
   ],
   "source": [
    "shuffleString('aku', 4)"
   ]
  },
  {
   "cell_type": "markdown",
   "metadata": {},
   "source": [
    "# No 9"
   ]
  },
  {
   "cell_type": "code",
   "execution_count": 38,
   "metadata": {},
   "outputs": [],
   "source": [
    "nilai = [{'nim': 'A01', 'nama': 'Agustina', 'mid': 50, 'uas': 80},\n",
    "         {'nim': 'A02', 'nama': 'Budi', 'mid': 40, 'uas': 90},\n",
    "         {'nim': 'A03', 'nama': 'Chicha', 'mid': 100, 'uas': 50},\n",
    "         {'nim': 'A04', 'nama': 'Donna', 'mid': 20, 'uas': 100},\n",
    "         {'nim': 'A05', 'nama': 'Fatimah', 'mid': 70, 'uas': 100}]"
   ]
  },
  {
   "cell_type": "code",
   "execution_count": 57,
   "metadata": {},
   "outputs": [
    {
     "name": "stdout",
     "output_type": "stream",
     "text": [
      "==================================================================\n",
      "NIM     NAMA            N.MID      N.UAS    N.AKHIR     STATUS\n",
      "------------------------------------------------------------------\n",
      "A01     Agustina           50         80       70.0      LULUS\n",
      "A02     Budi               40         90       73.3      LULUS\n",
      "A03     Chicha            100         50       66.7      LULUS\n",
      "A04     Donna              20        100       73.3      LULUS\n",
      "A05     Fatimah            70        100       90.0      LULUS\n",
      "------------------------------------------------------------------\n"
     ]
    }
   ],
   "source": [
    "print('==================================================================')\n",
    "print('NIM'.ljust(7, ' '), 'NAMA'.ljust(10, ' '), 'N.MID'.rjust(10, ' '), \n",
    "      'N.UAS'.rjust(10, ' '), 'N.AKHIR'.rjust(10, ' '), 'STATUS'.rjust(10, ' '))\n",
    "print('------------------------------------------------------------------')\n",
    "\n",
    "for data in nilai:\n",
    "    nAkhir= (data['mid'] + 2 * data['uas'])/3\n",
    "    if nAkhir >= 60:\n",
    "        status = 'LULUS'\n",
    "    else:\n",
    "        status = 'TDK LULUS'\n",
    "        \n",
    "    print(data['nim'].ljust(7, ' '), data['nama'].ljust(10, ' '), str(data['mid']).rjust(10, ' '),\n",
    "          str(data['uas']).rjust(10, ' '), str(round(nAkhir, 1)).rjust(10, ' '), status.rjust(10, ' '))\n",
    "    \n",
    "    \n",
    "print('------------------------------------------------------------------')"
   ]
  }
 ],
 "metadata": {
  "kernelspec": {
   "display_name": "Python 3",
   "language": "python",
   "name": "python3"
  },
  "language_info": {
   "codemirror_mode": {
    "name": "ipython",
    "version": 3
   },
   "file_extension": ".py",
   "mimetype": "text/x-python",
   "name": "python",
   "nbconvert_exporter": "python",
   "pygments_lexer": "ipython3",
   "version": "3.8.3"
  }
 },
 "nbformat": 4,
 "nbformat_minor": 4
}
